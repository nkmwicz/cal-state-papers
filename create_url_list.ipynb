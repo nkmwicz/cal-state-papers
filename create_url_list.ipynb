{
 "cells": [
  {
   "cell_type": "code",
   "execution_count": null,
   "id": "22836ab6",
   "metadata": {},
   "outputs": [],
   "source": [
    "import re\n",
    "import json\n",
    "from bs4 import BeautifulSoup\n",
    "import requests\n",
    "import pandas as pd\n",
    "from cluster import embed_items, create_cluster\n",
    "\n",
    "# import display\n",
    "from IPython.display import display, HTML\n",
    "\n",
    "# The original, poorly structured HTML table provided by the user.\n",
    "root_url = \"https://www.british-history.ac.uk\"\n",
    "main_page = (\n",
    "    \"https://www.british-history.ac.uk/series/calendar-state-papers-venice?page=\"\n",
    ")\n",
    "\n",
    "total_pages = 4\n",
    "\n",
    "\n",
    "def get_volumes_on_page(url):\n",
    "    \"\"\"\n",
    "    Get the urls for each volume on the\n",
    "    \"\"\"\n",
    "    req = requests.get(url)\n",
    "    soup = BeautifulSoup(req.text, \"html.parser\")\n",
    "    links = soup.find_all(lambda tag: tag.name == \"a\" and \"Volume\" in tag.text)\n",
    "    return [link.get(\"href\") for link in links]\n",
    "\n",
    "\n",
    "volume_urls = []\n",
    "for i in range(total_pages):\n",
    "    volume_url = get_volumes_on_page(f\"{main_page}{i}\")\n",
    "    volume_url = [root_url + url for url in volume_url]\n",
    "    volume_urls.extend(volume_url)\n",
    "\n",
    "display(volume_urls)"
   ]
  },
  {
   "cell_type": "code",
   "execution_count": null,
   "id": "838aa8e4",
   "metadata": {},
   "outputs": [],
   "source": [
    "def get_urls(main_url):\n",
    "    soup = BeautifulSoup(requests.get(main_url).text, \"html.parser\")\n",
    "    table = soup.find(\"table\")\n",
    "    interested_rows = table.find_all(lambda tag: \"Venice:\" in tag.text)\n",
    "    urls = [row.get(\"href\") for row in interested_rows]\n",
    "    return [url for url in urls if url != None]\n",
    "\n",
    "\n",
    "data_links = []\n",
    "for url in volume_urls:\n",
    "    data_links.extend(get_urls(url))\n",
    "\n",
    "display(data_links)"
   ]
  },
  {
   "cell_type": "code",
   "execution_count": null,
   "id": "6afde4c4",
   "metadata": {},
   "outputs": [],
   "source": [
    "# with open(\"data_links.txt\", \"a\") as f:\n",
    "#     f.write(\"\\n\".join(data_links))"
   ]
  }
 ],
 "metadata": {
  "language_info": {
   "name": "python"
  }
 },
 "nbformat": 4,
 "nbformat_minor": 5
}
