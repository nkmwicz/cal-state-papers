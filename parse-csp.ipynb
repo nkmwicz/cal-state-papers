{
 "cells": [
  {
   "cell_type": "code",
   "execution_count": 21,
   "id": "0bf8ddc3",
   "metadata": {},
   "outputs": [],
   "source": [
    "import pandas as pd\n",
    "\n",
    "# from cluster import embed_items, create_cluster\n",
    "import requests\n",
    "from bs4 import BeautifulSoup\n",
    "\n",
    "\n",
    "def parse_historical_table(html_content, df=None):\n",
    "    \"\"\"\n",
    "    Parses the messy HTML table into a structured list of dictionaries.\n",
    "    \"\"\"\n",
    "    next_root = \"https://www.british-history.ac.uk\"\n",
    "    html = requests.get(next_root + html_content).text\n",
    "    soup = BeautifulSoup(html, \"html.parser\")\n",
    "    next_row = soup.find(\"div\", {\"id\": \"block-componentpager\"})\n",
    "    # if next_row:\n",
    "    #     next = next_row.find(lambda tag: \"Next\" in tag.text)\n",
    "    #     if next:\n",
    "    #         next_html = next.get(\"href\")\n",
    "    #         print(next_root + next_html)\n",
    "    rows = soup.find(class_=\"table-wrap\").find(\"table\").find_all([\"th\", \"td\"])\n",
    "    idx = [i for i, element in enumerate(rows) if element.name == \"th\"]\n",
    "    citation = soup.find(class_=\"chicago\").text.strip()\n",
    "    cols = [\"date\", \"text\", \"citation\"]\n",
    "    lines = []\n",
    "    for index, i in enumerate(idx):\n",
    "        row = []\n",
    "        row.append(rows[i].text)\n",
    "        if index == idx.index(idx[-1]):\n",
    "            row.append(\"\\n\".join(t.text for t in rows[i + 1 :]))\n",
    "        else:\n",
    "            row.append(\"\\n\".join(t.text for t in rows[i + 1 : idx[index + 1]]))\n",
    "        row.append(citation)\n",
    "        lines.append(row)\n",
    "\n",
    "    df1 = pd.DataFrame(columns=cols, data=lines)\n",
    "    df1[\"text\"] = df1[\"text\"].str.replace(\"\\n\", \"\")\n",
    "\n",
    "    return df1"
   ]
  },
  {
   "cell_type": "code",
   "execution_count": 22,
   "id": "ff4f2e4f",
   "metadata": {},
   "outputs": [
    {
     "name": "stdout",
     "output_type": "stream",
     "text": [
      "finished /cal-state-papers/venice/vol1/pp1-3\n",
      "finished /cal-state-papers/venice/vol1/pp3-39\n",
      "finished /cal-state-papers/venice/vol1/pp39-52\n",
      "finished /cal-state-papers/venice/vol1/pp52-61\n"
     ]
    },
    {
     "data": {
      "text/plain": [
       "(239, 3)"
      ]
     },
     "metadata": {},
     "output_type": "display_data"
    }
   ],
   "source": [
    "# from cluster import embed_items\n",
    "url_num = 4\n",
    "\n",
    "with open(\"data_links.txt\", \"r\") as f:\n",
    "    data_links = f.read().splitlines()\n",
    "\n",
    "data_links = data_links[:url_num]\n",
    "\n",
    "dfs = []\n",
    "for url in data_links:\n",
    "    df = parse_historical_table(url)\n",
    "    dfs.append(df)\n",
    "    print(f\"finished {url}\")\n",
    "table = pd.concat(dfs).reset_index(drop=True)\n",
    "display(table.shape)"
   ]
  },
  {
   "cell_type": "code",
   "execution_count": 23,
   "id": "929d7b61",
   "metadata": {},
   "outputs": [
    {
     "name": "stdout",
     "output_type": "stream",
     "text": [
      "Number of texts: 239\n",
      "Average length: 106 words\n",
      "Total characters: 25,452\n"
     ]
    }
   ],
   "source": [
    "# Run this in your notebook\n",
    "print(f\"Number of texts: {len(table['text'])}\")\n",
    "print(f\"Average length: {table['text'].str.split(' ').str.len().mean():.0f} words\")\n",
    "print(f\"Total characters: {table['text'].str.split(' ').str.len().sum():,}\")"
   ]
  },
  {
   "cell_type": "code",
   "execution_count": 24,
   "id": "1845f44d",
   "metadata": {},
   "outputs": [
    {
     "data": {
      "text/html": [
       "<div>\n",
       "<style scoped>\n",
       "    .dataframe tbody tr th:only-of-type {\n",
       "        vertical-align: middle;\n",
       "    }\n",
       "\n",
       "    .dataframe tbody tr th {\n",
       "        vertical-align: top;\n",
       "    }\n",
       "\n",
       "    .dataframe thead th {\n",
       "        text-align: right;\n",
       "    }\n",
       "</style>\n",
       "<table border=\"1\" class=\"dataframe\">\n",
       "  <thead>\n",
       "    <tr style=\"text-align: right;\">\n",
       "      <th></th>\n",
       "      <th>date</th>\n",
       "      <th>text</th>\n",
       "      <th>citation</th>\n",
       "    </tr>\n",
       "  </thead>\n",
       "  <tbody>\n",
       "    <tr>\n",
       "      <th>0</th>\n",
       "      <td>1202. Oct.</td>\n",
       "      <td>1. Baldwin Count of Flanders and Hainault.Nota...</td>\n",
       "      <td>'Venice: 1202-1295', in Calendar of State Pape...</td>\n",
       "    </tr>\n",
       "    <tr>\n",
       "      <th>1</th>\n",
       "      <td>1224. 13 Sept.</td>\n",
       "      <td>2. Doge Pietro Ziani and his six Privy Counsel...</td>\n",
       "      <td>'Venice: 1202-1295', in Calendar of State Pape...</td>\n",
       "    </tr>\n",
       "    <tr>\n",
       "      <th>2</th>\n",
       "      <td>1265. Nov. 6. “Fractus.” “Deliberazioni,” Gran...</td>\n",
       "      <td>3. Tariff of Duties on Cloths, Linens, and Fus...</td>\n",
       "      <td>'Venice: 1202-1295', in Calendar of State Pape...</td>\n",
       "    </tr>\n",
       "    <tr>\n",
       "      <th>3</th>\n",
       "      <td>1272. Feb. 15. “Comune I.” “Deliberazioni,” Gr...</td>\n",
       "      <td>4. “Cambium.”Concerning merchants who go (qui ...</td>\n",
       "      <td>'Venice: 1202-1295', in Calendar of State Pape...</td>\n",
       "    </tr>\n",
       "    <tr>\n",
       "      <th>4</th>\n",
       "      <td>1273. Dec. 13. “ Comune I.” “Deliberazioni,” G...</td>\n",
       "      <td>5. “Cambium.”Concerning merchants navigating t...</td>\n",
       "      <td>'Venice: 1202-1295', in Calendar of State Pape...</td>\n",
       "    </tr>\n",
       "  </tbody>\n",
       "</table>\n",
       "</div>"
      ],
      "text/plain": [
       "                                                date  \\\n",
       "0                                         1202. Oct.   \n",
       "1                                     1224. 13 Sept.   \n",
       "2  1265. Nov. 6. “Fractus.” “Deliberazioni,” Gran...   \n",
       "3  1272. Feb. 15. “Comune I.” “Deliberazioni,” Gr...   \n",
       "4  1273. Dec. 13. “ Comune I.” “Deliberazioni,” G...   \n",
       "\n",
       "                                                text  \\\n",
       "0  1. Baldwin Count of Flanders and Hainault.Nota...   \n",
       "1  2. Doge Pietro Ziani and his six Privy Counsel...   \n",
       "2  3. Tariff of Duties on Cloths, Linens, and Fus...   \n",
       "3  4. “Cambium.”Concerning merchants who go (qui ...   \n",
       "4  5. “Cambium.”Concerning merchants navigating t...   \n",
       "\n",
       "                                            citation  \n",
       "0  'Venice: 1202-1295', in Calendar of State Pape...  \n",
       "1  'Venice: 1202-1295', in Calendar of State Pape...  \n",
       "2  'Venice: 1202-1295', in Calendar of State Pape...  \n",
       "3  'Venice: 1202-1295', in Calendar of State Pape...  \n",
       "4  'Venice: 1202-1295', in Calendar of State Pape...  "
      ]
     },
     "execution_count": 24,
     "metadata": {},
     "output_type": "execute_result"
    }
   ],
   "source": [
    "table.head()"
   ]
  },
  {
   "cell_type": "code",
   "execution_count": 25,
   "id": "c8a528d6",
   "metadata": {},
   "outputs": [
    {
     "data": {
      "text/plain": [
       "0      1202.0\n",
       "1      1224.0\n",
       "2      1265.0\n",
       "3      1272.0\n",
       "4      1273.0\n",
       "        ...  \n",
       "234    1419.0\n",
       "235    1419.0\n",
       "236    1420.0\n",
       "237    1420.0\n",
       "238    1420.0\n",
       "Name: year, Length: 239, dtype: float64"
      ]
     },
     "execution_count": 25,
     "metadata": {},
     "output_type": "execute_result"
    }
   ],
   "source": [
    "def get_year(row: pd.Series) -> float:\n",
    "    match = pd.Series(row[\"date\"]).str.extract(r\"(\\d{4})\", expand=False)\n",
    "    year = match.iloc[0]\n",
    "\n",
    "    if not pd.isna(year):\n",
    "        return float(year)\n",
    "    idx = row.name  # row.name contains the index\n",
    "\n",
    "    if pd.isna(year):\n",
    "        while idx > 0:\n",
    "            idx -= 1\n",
    "            prev_date = table.iloc[idx]\n",
    "            match = pd.Series(prev_date[\"date\"]).str.extract(r\"(\\d{4})\", expand=False)\n",
    "            year = match.iloc[0]\n",
    "            if not pd.isna(year):\n",
    "                break\n",
    "    return float(year)\n",
    "\n",
    "\n",
    "table[\"year\"] = table.apply(get_year, axis=1)\n",
    "# table[\"year\"] = table[\"date\"].str.extract(r\"(\\d{4})\").astype(float)\n",
    "# table[\"year\"]\n",
    "# table.iloc[39:43]\n",
    "table[\"year\"]"
   ]
  },
  {
   "cell_type": "code",
   "execution_count": 26,
   "id": "75c06c89",
   "metadata": {},
   "outputs": [
    {
     "data": {
      "text/plain": [
       "0      [-0.050438251346349716, 0.015423907898366451, ...\n",
       "1      [0.02090444043278694, 0.03915192559361458, 0.0...\n",
       "2      [0.014525304548442364, 0.025349894538521767, 0...\n",
       "3      [0.01985478401184082, 0.003296412993222475, 0....\n",
       "4      [0.007098940201103687, 0.01995459944009781, 0....\n",
       "                             ...                        \n",
       "234    [0.021589407697319984, 0.03307503089308739, 0....\n",
       "235    [0.01747804880142212, 0.01886497065424919, 0.0...\n",
       "236    [-0.00818114634603262, 0.06117068976163864, 0....\n",
       "237    [0.005689109209924936, 0.02060399204492569, 0....\n",
       "238    [0.005258034914731979, 0.03298444673418999, 0....\n",
       "Name: embeds, Length: 239, dtype: object"
      ]
     },
     "execution_count": 26,
     "metadata": {},
     "output_type": "execute_result"
    }
   ],
   "source": [
    "table[\"embeds\"] = embed_items(table[\"text\"])\n",
    "table[\"embeds\"]"
   ]
  },
  {
   "cell_type": "code",
   "execution_count": 28,
   "id": "ec98a1f6",
   "metadata": {},
   "outputs": [],
   "source": [
    "import importlib\n",
    "import cluster\n",
    "\n",
    "importlib.reload(cluster)\n",
    "from cluster import create_cluster, spectral_clusters"
   ]
  },
  {
   "cell_type": "code",
   "execution_count": 30,
   "id": "11d4b37b",
   "metadata": {},
   "outputs": [
    {
     "data": {
      "text/plain": [
       "[90, 64, 198]"
      ]
     },
     "execution_count": 30,
     "metadata": {},
     "output_type": "execute_result"
    }
   ],
   "source": [
    "# embeds = table[\"embeds\"].to_numpy()\n",
    "embeds = list(table[\"embeds\"])\n",
    "sims, clusters = create_cluster(embeds, num_clusters=3)\n",
    "sims, clusters\n",
    "\n",
    "# spectral_labels = spectral_clusters(embeds, n_clusters=3, random_state=42)\n",
    "[len(c) for c in clusters]"
   ]
  },
  {
   "cell_type": "code",
   "execution_count": null,
   "id": "5ebc616b",
   "metadata": {},
   "outputs": [],
   "source": []
  },
  {
   "cell_type": "code",
   "execution_count": 20,
   "id": "22f4cad6",
   "metadata": {},
   "outputs": [],
   "source": [
    "# urls = get_urls(\"https://www.british-history.ac.uk/cal-state-papers/venice/vol35\")\n",
    "# dfs = []\n",
    "# for url in data_links:\n",
    "#     df = parse_historical_table(url)\n",
    "#     dfs.append(df)\n",
    "#     print(f\"finished {url}\")\n",
    "# main_df = pd.concat(dfs)\n",
    "# display(main_df.shape)"
   ]
  }
 ],
 "metadata": {
  "kernelspec": {
   "display_name": "research",
   "language": "python",
   "name": "python3"
  },
  "language_info": {
   "codemirror_mode": {
    "name": "ipython",
    "version": 3
   },
   "file_extension": ".py",
   "mimetype": "text/x-python",
   "name": "python",
   "nbconvert_exporter": "python",
   "pygments_lexer": "ipython3",
   "version": "3.12.8"
  }
 },
 "nbformat": 4,
 "nbformat_minor": 5
}
