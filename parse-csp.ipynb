{
 "cells": [
  {
   "cell_type": "code",
   "execution_count": 4,
   "id": "0bf8ddc3",
   "metadata": {},
   "outputs": [],
   "source": [
    "import pandas as pd\n",
    "\n",
    "# from cluster import embed_items, create_cluster\n",
    "import requests\n",
    "from bs4 import BeautifulSoup\n",
    "\n",
    "\n",
    "def parse_historical_table(html_content, df=None):\n",
    "    \"\"\"\n",
    "    Parses the messy HTML table into a structured list of dictionaries.\n",
    "    \"\"\"\n",
    "    next_root = \"https://www.british-history.ac.uk\"\n",
    "    html = requests.get(next_root + html_content).text\n",
    "    soup = BeautifulSoup(html, \"html.parser\")\n",
    "    next_row = soup.find(\"div\", {\"id\": \"block-componentpager\"})\n",
    "    # if next_row:\n",
    "    #     next = next_row.find(lambda tag: \"Next\" in tag.text)\n",
    "    #     if next:\n",
    "    #         next_html = next.get(\"href\")\n",
    "    #         print(next_root + next_html)\n",
    "    rows = soup.find(class_=\"table-wrap\").find(\"table\").find_all([\"th\", \"td\"])\n",
    "    idx = [i for i, element in enumerate(rows) if element.name == \"th\"]\n",
    "    citation = soup.find(class_=\"chicago\").text.strip()\n",
    "    cols = [\"date\", \"text\", \"citation\"]\n",
    "    lines = []\n",
    "    for index, i in enumerate(idx):\n",
    "        row = []\n",
    "        row.append(rows[i].text)\n",
    "        if index == idx.index(idx[-1]):\n",
    "            row.append(\"\\n\".join(t.text for t in rows[i + 1 :]))\n",
    "        else:\n",
    "            row.append(\"\\n\".join(t.text for t in rows[i + 1 : idx[index + 1]]))\n",
    "        row.append(citation)\n",
    "        lines.append(row)\n",
    "\n",
    "    df1 = pd.DataFrame(columns=cols, data=lines)\n",
    "    df1[\"text\"] = df1[\"text\"].str.replace(\"\\n\", \"\")\n",
    "\n",
    "    return df1"
   ]
  },
  {
   "cell_type": "code",
   "execution_count": 5,
   "id": "ff4f2e4f",
   "metadata": {},
   "outputs": [
    {
     "name": "stdout",
     "output_type": "stream",
     "text": [
      "finished /cal-state-papers/venice/vol1/pp1-3\n",
      "finished /cal-state-papers/venice/vol1/pp3-39\n",
      "finished /cal-state-papers/venice/vol1/pp39-52\n",
      "finished /cal-state-papers/venice/vol1/pp52-61\n"
     ]
    },
    {
     "data": {
      "text/plain": [
       "(239, 3)"
      ]
     },
     "metadata": {},
     "output_type": "display_data"
    }
   ],
   "source": [
    "# from cluster import embed_items\n",
    "url_num = 4\n",
    "\n",
    "with open(\"data_links.txt\", \"r\") as f:\n",
    "    data_links = f.read().splitlines()\n",
    "\n",
    "data_links = data_links[:url_num]\n",
    "\n",
    "dfs = []\n",
    "for url in data_links:\n",
    "    df = parse_historical_table(url)\n",
    "    dfs.append(df)\n",
    "    print(f\"finished {url}\")\n",
    "table = pd.concat(dfs).reset_index(drop=True)\n",
    "display(table.shape)"
   ]
  },
  {
   "cell_type": "code",
   "execution_count": 6,
   "id": "929d7b61",
   "metadata": {},
   "outputs": [
    {
     "name": "stdout",
     "output_type": "stream",
     "text": [
      "Number of texts: 239\n",
      "Average length: 106 words\n",
      "Total characters: 25,452\n"
     ]
    }
   ],
   "source": [
    "# Run this in your notebook\n",
    "print(f\"Number of texts: {len(table['text'])}\")\n",
    "print(f\"Average length: {table['text'].str.split(' ').str.len().mean():.0f} words\")\n",
    "print(f\"Total characters: {table['text'].str.split(' ').str.len().sum():,}\")"
   ]
  },
  {
   "cell_type": "code",
   "execution_count": 7,
   "id": "1845f44d",
   "metadata": {},
   "outputs": [
    {
     "data": {
      "text/html": [
       "<div>\n",
       "<style scoped>\n",
       "    .dataframe tbody tr th:only-of-type {\n",
       "        vertical-align: middle;\n",
       "    }\n",
       "\n",
       "    .dataframe tbody tr th {\n",
       "        vertical-align: top;\n",
       "    }\n",
       "\n",
       "    .dataframe thead th {\n",
       "        text-align: right;\n",
       "    }\n",
       "</style>\n",
       "<table border=\"1\" class=\"dataframe\">\n",
       "  <thead>\n",
       "    <tr style=\"text-align: right;\">\n",
       "      <th></th>\n",
       "      <th>date</th>\n",
       "      <th>text</th>\n",
       "      <th>citation</th>\n",
       "    </tr>\n",
       "  </thead>\n",
       "  <tbody>\n",
       "    <tr>\n",
       "      <th>0</th>\n",
       "      <td>1202. Oct.</td>\n",
       "      <td>1. Baldwin Count of Flanders and Hainault.Nota...</td>\n",
       "      <td>'Venice: 1202-1295', in Calendar of State Pape...</td>\n",
       "    </tr>\n",
       "    <tr>\n",
       "      <th>1</th>\n",
       "      <td>1224. 13 Sept.</td>\n",
       "      <td>2. Doge Pietro Ziani and his six Privy Counsel...</td>\n",
       "      <td>'Venice: 1202-1295', in Calendar of State Pape...</td>\n",
       "    </tr>\n",
       "    <tr>\n",
       "      <th>2</th>\n",
       "      <td>1265. Nov. 6. “Fractus.” “Deliberazioni,” Gran...</td>\n",
       "      <td>3. Tariff of Duties on Cloths, Linens, and Fus...</td>\n",
       "      <td>'Venice: 1202-1295', in Calendar of State Pape...</td>\n",
       "    </tr>\n",
       "    <tr>\n",
       "      <th>3</th>\n",
       "      <td>1272. Feb. 15. “Comune I.” “Deliberazioni,” Gr...</td>\n",
       "      <td>4. “Cambium.”Concerning merchants who go (qui ...</td>\n",
       "      <td>'Venice: 1202-1295', in Calendar of State Pape...</td>\n",
       "    </tr>\n",
       "    <tr>\n",
       "      <th>4</th>\n",
       "      <td>1273. Dec. 13. “ Comune I.” “Deliberazioni,” G...</td>\n",
       "      <td>5. “Cambium.”Concerning merchants navigating t...</td>\n",
       "      <td>'Venice: 1202-1295', in Calendar of State Pape...</td>\n",
       "    </tr>\n",
       "  </tbody>\n",
       "</table>\n",
       "</div>"
      ],
      "text/plain": [
       "                                                date  \\\n",
       "0                                         1202. Oct.   \n",
       "1                                     1224. 13 Sept.   \n",
       "2  1265. Nov. 6. “Fractus.” “Deliberazioni,” Gran...   \n",
       "3  1272. Feb. 15. “Comune I.” “Deliberazioni,” Gr...   \n",
       "4  1273. Dec. 13. “ Comune I.” “Deliberazioni,” G...   \n",
       "\n",
       "                                                text  \\\n",
       "0  1. Baldwin Count of Flanders and Hainault.Nota...   \n",
       "1  2. Doge Pietro Ziani and his six Privy Counsel...   \n",
       "2  3. Tariff of Duties on Cloths, Linens, and Fus...   \n",
       "3  4. “Cambium.”Concerning merchants who go (qui ...   \n",
       "4  5. “Cambium.”Concerning merchants navigating t...   \n",
       "\n",
       "                                            citation  \n",
       "0  'Venice: 1202-1295', in Calendar of State Pape...  \n",
       "1  'Venice: 1202-1295', in Calendar of State Pape...  \n",
       "2  'Venice: 1202-1295', in Calendar of State Pape...  \n",
       "3  'Venice: 1202-1295', in Calendar of State Pape...  \n",
       "4  'Venice: 1202-1295', in Calendar of State Pape...  "
      ]
     },
     "execution_count": 7,
     "metadata": {},
     "output_type": "execute_result"
    }
   ],
   "source": [
    "table.head()"
   ]
  },
  {
   "cell_type": "code",
   "execution_count": 8,
   "id": "c8a528d6",
   "metadata": {},
   "outputs": [
    {
     "data": {
      "text/plain": [
       "0      1202.0\n",
       "1      1224.0\n",
       "2      1265.0\n",
       "3      1272.0\n",
       "4      1273.0\n",
       "        ...  \n",
       "234    1419.0\n",
       "235    1419.0\n",
       "236    1420.0\n",
       "237    1420.0\n",
       "238    1420.0\n",
       "Name: year, Length: 239, dtype: float64"
      ]
     },
     "execution_count": 8,
     "metadata": {},
     "output_type": "execute_result"
    }
   ],
   "source": [
    "def get_year(row: pd.Series) -> float:\n",
    "    match = pd.Series(row[\"date\"]).str.extract(r\"(\\d{4})\", expand=False)\n",
    "    year = match.iloc[0]\n",
    "\n",
    "    if not pd.isna(year):\n",
    "        return float(year)\n",
    "    idx = row.name  # row.name contains the index\n",
    "\n",
    "    if pd.isna(year):\n",
    "        while idx > 0:\n",
    "            idx -= 1\n",
    "            prev_date = table.iloc[idx]\n",
    "            match = pd.Series(prev_date[\"date\"]).str.extract(r\"(\\d{4})\", expand=False)\n",
    "            year = match.iloc[0]\n",
    "            if not pd.isna(year):\n",
    "                break\n",
    "    return float(year)\n",
    "\n",
    "\n",
    "table[\"year\"] = table.apply(get_year, axis=1)\n",
    "# table[\"year\"] = table[\"date\"].str.extract(r\"(\\d{4})\").astype(float)\n",
    "# table[\"year\"]\n",
    "# table.iloc[39:43]\n",
    "table[\"year\"]"
   ]
  },
  {
   "cell_type": "code",
   "execution_count": 9,
   "id": "75c06c89",
   "metadata": {},
   "outputs": [
    {
     "data": {
      "text/plain": [
       "0      [-0.050486620515584946, 0.01540993433445692, 0...\n",
       "1      [0.02098303660750389, 0.03918666020035744, 0.0...\n",
       "2      [0.014525304548442364, 0.025349894538521767, 0...\n",
       "3      [0.01985478401184082, 0.003296412993222475, 0....\n",
       "4      [0.007098940201103687, 0.01995459944009781, 0....\n",
       "                             ...                        \n",
       "234    [0.021591104567050934, 0.033047910779714584, 0...\n",
       "235    [0.01747804880142212, 0.01886497065424919, 0.0...\n",
       "236    [-0.008166288956999779, 0.06116767227649689, 0...\n",
       "237    [0.0056990971788764, 0.02055922895669937, 0.03...\n",
       "238    [0.0052399905398488045, 0.03295309841632843, 0...\n",
       "Name: embeds, Length: 239, dtype: object"
      ]
     },
     "execution_count": 9,
     "metadata": {},
     "output_type": "execute_result"
    }
   ],
   "source": [
    "from cluster import embed_items\n",
    "\n",
    "table[\"embeds\"] = embed_items(table[\"text\"])\n",
    "table[\"embeds\"]"
   ]
  },
  {
   "cell_type": "code",
   "execution_count": 12,
   "id": "ec98a1f6",
   "metadata": {},
   "outputs": [],
   "source": [
    "import numpy as np\n",
    "import importlib\n",
    "import cluster\n",
    "\n",
    "\n",
    "importlib.reload(cluster)\n",
    "from cluster import create_cluster, spectral_clusters"
   ]
  },
  {
   "cell_type": "code",
   "execution_count": 13,
   "id": "11d4b37b",
   "metadata": {},
   "outputs": [
    {
     "name": "stdout",
     "output_type": "stream",
     "text": [
      "centroids (3, 1536) [[-0.01383855  0.00451718  0.02187465 ... -0.00330678  0.02657901\n",
      "   0.02605491]\n",
      " [ 0.01669735  0.02514875  0.06711813 ...  0.00507153  0.00858153\n",
      "   0.01947795]\n",
      " [ 0.00115367  0.04567183  0.05672982 ... -0.00317305  0.01413926\n",
      "   0.01573749]]\n"
     ]
    },
    {
     "ename": "AttributeError",
     "evalue": "'list' object has no attribute 'shape'",
     "output_type": "error",
     "traceback": [
      "\u001b[0;31m---------------------------------------------------------------------------\u001b[0m",
      "\u001b[0;31mAttributeError\u001b[0m                            Traceback (most recent call last)",
      "File \u001b[0;32m<timed exec>:2\u001b[0m\n",
      "File \u001b[0;32m~/home/research/cal-state-papers/cluster.py:181\u001b[0m, in \u001b[0;36mcreate_cluster\u001b[0;34m(embed_list, num_clusters)\u001b[0m\n\u001b[1;32m    178\u001b[0m groups \u001b[38;5;241m=\u001b[39m [[] \u001b[38;5;28;01mfor\u001b[39;00m _ \u001b[38;5;129;01min\u001b[39;00m \u001b[38;5;28mrange\u001b[39m(num_clusters)]\n\u001b[1;32m    179\u001b[0m min_dist \u001b[38;5;241m=\u001b[39m \u001b[38;5;241m1e-6\u001b[39m\n\u001b[0;32m--> 181\u001b[0m clusters \u001b[38;5;241m=\u001b[39m \u001b[43msetup_clusters\u001b[49m\u001b[43m(\u001b[49m\u001b[43mcentroids\u001b[49m\u001b[43m,\u001b[49m\u001b[43m \u001b[49m\u001b[43marr\u001b[49m\u001b[43m,\u001b[49m\u001b[43m \u001b[49m\u001b[43mgroups\u001b[49m\u001b[43m)\u001b[49m\n\u001b[1;32m    182\u001b[0m \u001b[38;5;66;03m# while average_cent_dist_change > min_dist:\u001b[39;00m\n\u001b[1;32m    183\u001b[0m \u001b[38;5;66;03m# assign points to nearest centroid\u001b[39;00m\n\u001b[1;32m    184\u001b[0m \u001b[38;5;66;03m# clusters = [\u001b[39;00m\n\u001b[1;32m    185\u001b[0m \u001b[38;5;66;03m#     np.mean(arr_norm[grp], axis=0) for grp in groups\u001b[39;00m\n\u001b[1;32m    186\u001b[0m \u001b[38;5;66;03m# ]  # these clusters aren't normalized?\u001b[39;00m\n\u001b[1;32m    188\u001b[0m \u001b[38;5;28;01mreturn\u001b[39;00m clusters\n",
      "File \u001b[0;32m~/home/research/cal-state-papers/cluster.py:150\u001b[0m, in \u001b[0;36msetup_clusters\u001b[0;34m(centroids, embeds, clusters)\u001b[0m\n\u001b[1;32m    148\u001b[0m     \u001b[38;5;28;01mreturn\u001b[39;00m sims, clusters\n\u001b[1;32m    149\u001b[0m \u001b[38;5;28;01melse\u001b[39;00m:\n\u001b[0;32m--> 150\u001b[0m     \u001b[38;5;28;01mreturn\u001b[39;00m \u001b[43msetup_clusters\u001b[49m\u001b[43m(\u001b[49m\u001b[43mcentroids_list\u001b[49m\u001b[43m,\u001b[49m\u001b[43m \u001b[49m\u001b[43marr_norm\u001b[49m\u001b[43m,\u001b[49m\u001b[43m \u001b[49m\u001b[43mclusters\u001b[49m\u001b[43m)\u001b[49m\n",
      "File \u001b[0;32m~/home/research/cal-state-papers/cluster.py:132\u001b[0m, in \u001b[0;36msetup_clusters\u001b[0;34m(centroids, embeds, clusters)\u001b[0m\n\u001b[1;32m    130\u001b[0m centroids_list \u001b[38;5;241m=\u001b[39m centroids\n\u001b[1;32m    131\u001b[0m centroids \u001b[38;5;241m=\u001b[39m centroids_list[\u001b[38;5;241m-\u001b[39m\u001b[38;5;241m1\u001b[39m]\n\u001b[0;32m--> 132\u001b[0m \u001b[38;5;28mprint\u001b[39m(\u001b[38;5;124m\"\u001b[39m\u001b[38;5;124mcentroids\u001b[39m\u001b[38;5;124m\"\u001b[39m, \u001b[43mcentroids\u001b[49m\u001b[38;5;241;43m.\u001b[39;49m\u001b[43mshape\u001b[49m, centroids)\n\u001b[1;32m    133\u001b[0m arr_norm \u001b[38;5;241m=\u001b[39m normalize_rows(embeds)\n\u001b[1;32m    134\u001b[0m sims \u001b[38;5;241m=\u001b[39m arr_norm \u001b[38;5;241m@\u001b[39m centroids\u001b[38;5;241m.\u001b[39mT  \u001b[38;5;66;03m# cosine similarity\u001b[39;00m\n",
      "\u001b[0;31mAttributeError\u001b[0m: 'list' object has no attribute 'shape'"
     ]
    }
   ],
   "source": [
    "%%time\n",
    "\n",
    "embeds = np.stack(table[\"embeds\"].to_list()).astype(np.float64)\n",
    "sims, clusters = create_cluster(embeds, num_clusters=3)\n",
    "# sims, clusters\n",
    "\n",
    "# spectral_labels = spectral_clusters(embeds, n_clusters=3, random_state=42)\n",
    "[len(c) for c in clusters]"
   ]
  },
  {
   "cell_type": "code",
   "execution_count": 12,
   "id": "5ebc616b",
   "metadata": {},
   "outputs": [
    {
     "data": {
      "text/plain": [
       "(239, 3)"
      ]
     },
     "execution_count": 12,
     "metadata": {},
     "output_type": "execute_result"
    }
   ],
   "source": [
    "sims.shape"
   ]
  },
  {
   "cell_type": "code",
   "execution_count": null,
   "id": "22f4cad6",
   "metadata": {},
   "outputs": [],
   "source": [
    "# urls = get_urls(\"https://www.british-history.ac.uk/cal-state-papers/venice/vol35\")\n",
    "# dfs = []\n",
    "# for url in data_links:\n",
    "#     df = parse_historical_table(url)\n",
    "#     dfs.append(df)\n",
    "#     print(f\"finished {url}\")\n",
    "# main_df = pd.concat(dfs)\n",
    "# display(main_df.shape)"
   ]
  }
 ],
 "metadata": {
  "kernelspec": {
   "display_name": "research",
   "language": "python",
   "name": "python3"
  },
  "language_info": {
   "codemirror_mode": {
    "name": "ipython",
    "version": 3
   },
   "file_extension": ".py",
   "mimetype": "text/x-python",
   "name": "python",
   "nbconvert_exporter": "python",
   "pygments_lexer": "ipython3",
   "version": "3.12.8"
  }
 },
 "nbformat": 4,
 "nbformat_minor": 5
}
